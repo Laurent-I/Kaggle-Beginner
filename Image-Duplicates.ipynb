{
 "cells": [
  {
   "cell_type": "code",
   "execution_count": 1,
   "id": "c5cab0d0",
   "metadata": {},
   "outputs": [
    {
     "ename": "ModuleNotFoundError",
     "evalue": "No module named 'imagehash'",
     "output_type": "error",
     "traceback": [
      "\u001b[1;31m---------------------------------------------------------------------------\u001b[0m",
      "\u001b[1;31mModuleNotFoundError\u001b[0m                       Traceback (most recent call last)",
      "Input \u001b[1;32mIn [1]\u001b[0m, in \u001b[0;36m<cell line: 2>\u001b[1;34m()\u001b[0m\n\u001b[0;32m      1\u001b[0m \u001b[38;5;28;01mimport\u001b[39;00m \u001b[38;5;21;01mos\u001b[39;00m\n\u001b[1;32m----> 2\u001b[0m \u001b[38;5;28;01mimport\u001b[39;00m \u001b[38;5;21;01mimagehash\u001b[39;00m\n\u001b[0;32m      3\u001b[0m \u001b[38;5;28;01mfrom\u001b[39;00m \u001b[38;5;21;01mPIL\u001b[39;00m \u001b[38;5;28;01mimport\u001b[39;00m Image\n\u001b[0;32m      5\u001b[0m \u001b[38;5;28;01mdef\u001b[39;00m \u001b[38;5;21mdetect_duplicate_images\u001b[39m(dir1, dir2):\n",
      "\u001b[1;31mModuleNotFoundError\u001b[0m: No module named 'imagehash'"
     ]
    }
   ],
   "source": [
    "import os\n",
    "import imagehash\n",
    "from PIL import Image\n",
    "\n",
    "def detect_duplicate_images(dir1, dir2):\n",
    "  \"\"\"\n",
    "  Detects duplicate images by comparing every image in directory 1 to every other image in directory 2.\n",
    "    \n",
    "  Parameters:\n",
    "  dir1 -- The first directory to search for images\n",
    "  dir2 -- The second directory to search for images\n",
    "    \n",
    "  Returns:\n",
    "  A list of tuples, where each tuple contains the file path of a duplicate image in both directories.\n",
    "  \"\"\"\n",
    "  # Get a list of all image files in both directories\n",
    "  images1 = [os.path.join(dir1, f) for f in os.listdir(dir1) if f.endswith('.jpg') or f.endswith('.jpeg') or f.endswith('.png')]\n",
    "  images2 = [os.path.join(dir2, f) for f in os.listdir(dir2) if f.endswith('.jpg') or f.endswith('.jpeg') or f.endswith('.png')]\n",
    "\n",
    "  # Create a dictionary to store the hashes of all images in directory 1\n",
    "  hashes = {}\n",
    "  for image in images1:\n",
    "    with Image.open(image) as img:\n",
    "        hash = str(imagehash.phash(img))\n",
    "        if hash not in hashes:\n",
    "            hashes[hash] = [image]\n",
    "        else:\n",
    "            hashes[hash].append(image)\n",
    "\n",
    "  # Check for duplicates in directory 2\n",
    "  duplicates = []\n",
    "  for image in images2:\n",
    "    with Image.open(image) as img:\n",
    "        hash = str(imagehash.phash(img))\n",
    "        if hash in hashes:\n",
    "            duplicates.append((image, hashes[hash][0]))\n",
    "                \n",
    "  return duplicates\n",
    "\n",
    "\n",
    "DIR1 = 'C:\\\\Users\\\\Pc\\\\Downloads\\\\Compressed\\\\data\\\\data\\\\test'\n",
    "DIR2 = 'C:\\\\Users\\\\Pc\\\\Downloads\\\\Compressed\\\\data\\\\data\\\\train'\n",
    "duplicates = detect_duplicate_images(DIR1, DIR2)\n",
    "for duplicate in duplicates:\n",
    "    print('Duplicate found:', duplicate[0], 'and', duplicate[1])"
   ]
  },
  {
   "cell_type": "code",
   "execution_count": 3,
   "id": "15a7690e",
   "metadata": {},
   "outputs": [
    {
     "name": "stderr",
     "output_type": "stream",
     "text": [
      "WARNING: Retrying (Retry(total=4, connect=None, read=None, redirect=None, status=None)) after connection broken by 'NewConnectionError('<pip._vendor.urllib3.connection.HTTPSConnection object at 0x0000020927CD2AF0>: Failed to establish a new connection: [Errno 11001] getaddrinfo failed')': /simple/imagehash/\n",
      "WARNING: Retrying (Retry(total=3, connect=None, read=None, redirect=None, status=None)) after connection broken by 'NewConnectionError('<pip._vendor.urllib3.connection.HTTPSConnection object at 0x0000020927CD21F0>: Failed to establish a new connection: [Errno 11001] getaddrinfo failed')': /simple/imagehash/\n",
      "WARNING: Retrying (Retry(total=2, connect=None, read=None, redirect=None, status=None)) after connection broken by 'NewConnectionError('<pip._vendor.urllib3.connection.HTTPSConnection object at 0x0000020927CD2040>: Failed to establish a new connection: [Errno 11001] getaddrinfo failed')': /simple/imagehash/\n",
      "WARNING: Retrying (Retry(total=1, connect=None, read=None, redirect=None, status=None)) after connection broken by 'NewConnectionError('<pip._vendor.urllib3.connection.HTTPSConnection object at 0x0000020927CD2C10>: Failed to establish a new connection: [Errno 11001] getaddrinfo failed')': /simple/imagehash/\n",
      "WARNING: Retrying (Retry(total=0, connect=None, read=None, redirect=None, status=None)) after connection broken by 'NewConnectionError('<pip._vendor.urllib3.connection.HTTPSConnection object at 0x0000020927CD2DF0>: Failed to establish a new connection: [Errno 11001] getaddrinfo failed')': /simple/imagehash/\n",
      "ERROR: Could not find a version that satisfies the requirement imagehash (from versions: none)\n",
      "ERROR: No matching distribution found for imagehash\n"
     ]
    }
   ],
   "source": [
    "!pip install imagehash\n"
   ]
  },
  {
   "cell_type": "code",
   "execution_count": null,
   "id": "0d58877a",
   "metadata": {},
   "outputs": [],
   "source": []
  }
 ],
 "metadata": {
  "kernelspec": {
   "display_name": "Python 3 (ipykernel)",
   "language": "python",
   "name": "python3"
  },
  "language_info": {
   "codemirror_mode": {
    "name": "ipython",
    "version": 3
   },
   "file_extension": ".py",
   "mimetype": "text/x-python",
   "name": "python",
   "nbconvert_exporter": "python",
   "pygments_lexer": "ipython3",
   "version": "3.9.12"
  }
 },
 "nbformat": 4,
 "nbformat_minor": 5
}
